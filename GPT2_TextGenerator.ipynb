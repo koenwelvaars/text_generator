{
 "cells": [
  {
   "cell_type": "code",
   "execution_count": 26,
   "id": "d7e260fb",
   "metadata": {},
   "outputs": [],
   "source": [
    "# handleiding https://towardsdatascience.com/text-generation-with-python-and-gpt-2-1fecbff1635b"
   ]
  },
  {
   "cell_type": "code",
   "execution_count": 27,
   "id": "75811878",
   "metadata": {},
   "outputs": [
    {
     "name": "stdout",
     "output_type": "stream",
     "text": [
      "Collecting package metadata (current_repodata.json): done\n",
      "Solving environment: done\n",
      "\n",
      "# All requested packages already installed.\n",
      "\n",
      "\n",
      "Note: you may need to restart the kernel to use updated packages.\n"
     ]
    }
   ],
   "source": [
    "conda install pytorch torchvision torchaudio cpuonly -c pytorch\n",
    "pip install transformers\n",
    "\n",
    "import torch\n",
    "from transformers import GPT2LMHeadModel, GPT2Tokenizer"
   ]
  },
  {
   "cell_type": "code",
   "execution_count": 2,
   "id": "fa0ad5bf",
   "metadata": {},
   "outputs": [],
   "source": [
    "# gebruik Tokenizer en model van GPT2\n",
    "tokenizer = GPT2Tokenizer.from_pretrained('gpt2')\n",
    "model = GPT2LMHeadModel.from_pretrained('gpt2')"
   ]
  },
  {
   "cell_type": "code",
   "execution_count": 3,
   "id": "6ebd9c34",
   "metadata": {},
   "outputs": [
    {
     "data": {
      "text/plain": [
       "'Artificial Intelligence (AI) may be part of the solution, as it can overcome bias in multiplestages of clinical- and surgical decision making. Quality research with a step-by-stepapproach is essential, before applications of AI are clinically useful.'"
      ]
     },
     "execution_count": 3,
     "metadata": {},
     "output_type": "execute_result"
    }
   ],
   "source": [
    "#type hier gewenste input\n",
    "sequence = (\"Artificial Intelligence (AI) may be part of the solution, as it can overcome bias in multiple\"\n",
    "            \"stages of clinical- and surgical decision making. Quality research with a step-by-step\"\n",
    "            \"approach is essential, before applications of AI are clinically useful.\")\n",
    "sequence"
   ]
  },
  {
   "cell_type": "code",
   "execution_count": 4,
   "id": "41f0cdae",
   "metadata": {},
   "outputs": [],
   "source": [
    "#coderen van sequence naar tokens\n",
    "inputs = tokenizer.encode(sequence, return_tensors='pt')"
   ]
  },
  {
   "cell_type": "code",
   "execution_count": 39,
   "id": "650a9ce6",
   "metadata": {},
   "outputs": [
    {
     "name": "stderr",
     "output_type": "stream",
     "text": [
      "Setting `pad_token_id` to `eos_token_id`:50256 for open-end generation.\n"
     ]
    }
   ],
   "source": [
    "#decoderen/genereren van output naar aanvullende tekst   \n",
    "outputs = model.generate(inputs, max_length = 200, do_sample = True, temperature = 0.5, top_k=10)"
   ]
  },
  {
   "cell_type": "code",
   "execution_count": 40,
   "id": "e36c2ff8",
   "metadata": {},
   "outputs": [
    {
     "name": "stdout",
     "output_type": "stream",
     "text": [
      "Artificial Intelligence (AI) may be part of the solution, as it can overcome bias in multiplestages of clinical- and surgical decision making. Quality research with a step-by-stepapproach is essential, before applications of AI are clinically useful.\n",
      "\n",
      "The AI research is now in progress, and the results are promising. We are excited to see how the AI will be used as a tool to improve patient care and quality of life, and how it will be applied in clinical practice.\n",
      "\n",
      "The AI research is already being used to improve the quality of life of patients in the UK. The AI research is also being used to improve the quality of life of patients in the UK. The AI research is already being used to improve the quality of life of patients in the UK.\n",
      "\n",
      "The AI research is already being used to improve the quality of life of patients in the UK. The AI research is also being used to improve the quality of life of patients in the UK.\n"
     ]
    }
   ],
   "source": [
    "#printen van de genereerde tekst\n",
    "text = tokenizer.decode(outputs[0], skip_special_tokens=True)\n",
    "print(text)"
   ]
  },
  {
   "cell_type": "code",
   "execution_count": null,
   "id": "5d8eacc7",
   "metadata": {},
   "outputs": [],
   "source": []
  }
 ],
 "metadata": {
  "kernelspec": {
   "display_name": "Python 3.8 - AzureML",
   "language": "python",
   "name": "python38-azureml"
  },
  "language_info": {
   "codemirror_mode": {
    "name": "ipython",
    "version": 3
   },
   "file_extension": ".py",
   "mimetype": "text/x-python",
   "name": "python",
   "nbconvert_exporter": "python",
   "pygments_lexer": "ipython3",
   "version": "3.8.1"
  }
 },
 "nbformat": 4,
 "nbformat_minor": 5
}

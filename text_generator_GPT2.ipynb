{
 "cells": [
  {
   "cell_type": "code",
   "execution_count": 1,
   "id": "a9f92cd2",
   "metadata": {},
   "outputs": [],
   "source": [
    "# Full manual on https://towardsdatascience.com/text-generation-with-python-and-gpt-2-1fecbff1635b"
   ]
  },
  {
   "cell_type": "code",
   "execution_count": 2,
   "id": "40e6797e",
   "metadata": {},
   "outputs": [],
   "source": [
    "#Run the following conda/pip install in your conda env\n",
    "    #conda install pytorch torchvision torchaudio cpuonly -c pytorch\n",
    "    #pip install transformers\n",
    "\n",
    "import torch\n",
    "from transformers import GPT2LMHeadModel, GPT2Tokenizer"
   ]
  },
  {
   "cell_type": "code",
   "execution_count": 3,
   "id": "666e3b00",
   "metadata": {},
   "outputs": [
    {
     "data": {
      "application/vnd.jupyter.widget-view+json": {
       "model_id": "1772317c1c54429abd76a4c549e0c05c",
       "version_major": 2,
       "version_minor": 0
      },
      "text/plain": [
       "Downloading:   0%|          | 0.00/1.04M [00:00<?, ?B/s]"
      ]
     },
     "metadata": {},
     "output_type": "display_data"
    },
    {
     "data": {
      "application/vnd.jupyter.widget-view+json": {
       "model_id": "fe4348b2c865450e89ccd963e6ab1edc",
       "version_major": 2,
       "version_minor": 0
      },
      "text/plain": [
       "Downloading:   0%|          | 0.00/456k [00:00<?, ?B/s]"
      ]
     },
     "metadata": {},
     "output_type": "display_data"
    },
    {
     "data": {
      "application/vnd.jupyter.widget-view+json": {
       "model_id": "7a9ffd5b1fad4ef2aa04359a273c855f",
       "version_major": 2,
       "version_minor": 0
      },
      "text/plain": [
       "Downloading:   0%|          | 0.00/1.36M [00:00<?, ?B/s]"
      ]
     },
     "metadata": {},
     "output_type": "display_data"
    },
    {
     "data": {
      "application/vnd.jupyter.widget-view+json": {
       "model_id": "92d0b06853434f1aac5a2eb238e74e29",
       "version_major": 2,
       "version_minor": 0
      },
      "text/plain": [
       "Downloading:   0%|          | 0.00/665 [00:00<?, ?B/s]"
      ]
     },
     "metadata": {},
     "output_type": "display_data"
    },
    {
     "data": {
      "application/vnd.jupyter.widget-view+json": {
       "model_id": "dd86caa4e0494a5a8a821520557a03c1",
       "version_major": 2,
       "version_minor": 0
      },
      "text/plain": [
       "Downloading:   0%|          | 0.00/548M [00:00<?, ?B/s]"
      ]
     },
     "metadata": {},
     "output_type": "display_data"
    }
   ],
   "source": [
    "# Use the Tokenizer and pre-trained model of OpenAI's GPT2\n",
    "tokenizer = GPT2Tokenizer.from_pretrained('gpt2')\n",
    "model = GPT2LMHeadModel.from_pretrained('gpt2')"
   ]
  },
  {
   "cell_type": "code",
   "execution_count": 11,
   "id": "77980c27",
   "metadata": {},
   "outputs": [
    {
     "data": {
      "text/plain": [
       "'Artificial Intelligence (AI) may be the new normal in about 10 years.'"
      ]
     },
     "execution_count": 11,
     "metadata": {},
     "output_type": "execute_result"
    }
   ],
   "source": [
    "# Input your own text into the model for processing and generating output \n",
    "sequence = (\"Artificial Intelligence (AI) may be the new normal in about 10 years.\")\n",
    "sequence"
   ]
  },
  {
   "cell_type": "code",
   "execution_count": 12,
   "id": "3903455b",
   "metadata": {},
   "outputs": [],
   "source": [
    "# Code sequence to tokens\n",
    "inputs = tokenizer.encode(sequence, return_tensors='pt')"
   ]
  },
  {
   "cell_type": "code",
   "execution_count": 15,
   "id": "fc1d3e91",
   "metadata": {},
   "outputs": [
    {
     "name": "stderr",
     "output_type": "stream",
     "text": [
      "Setting `pad_token_id` to `eos_token_id`:50256 for open-end generation.\n"
     ]
    }
   ],
   "source": [
    "# Decode and generate output based on input\n",
    "outputs = model.generate(inputs, max_length = 200, do_sample = True, temperature = 1, top_k=10)"
   ]
  },
  {
   "cell_type": "code",
   "execution_count": 16,
   "id": "f834406f",
   "metadata": {},
   "outputs": [
    {
     "name": "stdout",
     "output_type": "stream",
     "text": [
      "Artificial Intelligence (AI) may be the new normal in about 10 years. It may also be possible to develop AI for the next generation of computers. It might even lead the way towards a new era in computer science.\n",
      "\n",
      "The next big thing is the possibility of AI being used to solve complex problems. We have a large number of problems that can only be solved if a person can solve them. But AI is not just a new idea. It is already a powerful way to solve complex problems. In this article we have seen that a person can learn how to solve a problem and then use AI to solve that problem.\n",
      "\n",
      "In addition to this, a person could also learn to solve a problem by simply solving the problem. This may be an interesting concept to develop. One of the first ideas I have heard was that if we could learn to solve certain problems by simply solving the problem, we may become a much more sophisticated person.\n",
      "\n",
      "One of the main things I think\n"
     ]
    }
   ],
   "source": [
    "# Print output\n",
    "text = tokenizer.decode(outputs[0], skip_special_tokens=True)\n",
    "print(text)"
   ]
  },
  {
   "cell_type": "code",
   "execution_count": null,
   "id": "726023ea",
   "metadata": {},
   "outputs": [],
   "source": []
  }
 ],
 "metadata": {
  "kernelspec": {
   "display_name": "Python 3",
   "language": "python",
   "name": "python3"
  },
  "language_info": {
   "codemirror_mode": {
    "name": "ipython",
    "version": 3
   },
   "file_extension": ".py",
   "mimetype": "text/x-python",
   "name": "python",
   "nbconvert_exporter": "python",
   "pygments_lexer": "ipython3",
   "version": "3.9.4"
  }
 },
 "nbformat": 4,
 "nbformat_minor": 5
}
